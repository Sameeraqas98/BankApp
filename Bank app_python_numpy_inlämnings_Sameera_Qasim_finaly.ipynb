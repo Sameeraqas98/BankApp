{
 "cells": [
  {
   "cell_type": "markdown",
   "id": "211d9788",
   "metadata": {},
   "source": [
    "# Bankapp_Numpy_Python_Inlämninings1_Sameera"
   ]
  },
  {
   "cell_type": "markdown",
   "id": "9282fbec",
   "metadata": {},
   "source": [
    "# Account class"
   ]
  },
  {
   "cell_type": "code",
   "execution_count": 79,
   "id": "a1bdab8d",
   "metadata": {},
   "outputs": [],
   "source": [
    "class Account(object):\n",
    "    def __init__(self, account_number, amount_ofmoney=0):\n",
    "        self.account_number = account_number\n",
    "        self.balance = amount_ofmoney \n",
    "    def change_balance(self, value_change):\n",
    "        temp = self.balance + value_change\n",
    "        if temp >= 0:\n",
    "            self.balance = temp\n",
    "            return True\n",
    "        else:\n",
    "            return False\n",
    "    def get_balance(self):\n",
    "        return self.balance    \n",
    "        \n"
   ]
  },
  {
   "cell_type": "markdown",
   "id": "8ff40499",
   "metadata": {},
   "source": [
    "# Testing\n"
   ]
  },
  {
   "cell_type": "code",
   "execution_count": 80,
   "id": "134ce68b",
   "metadata": {},
   "outputs": [
    {
     "name": "stdout",
     "output_type": "stream",
     "text": [
      "the initial value = 34\n",
      "the balance after apply the change value -2: 32\n",
      "the balance after apply the change value 10: 42\n"
     ]
    }
   ],
   "source": [
    "test_account = Account(\"1223\",34)\n",
    "## get_balance function\n",
    "print(f\"the initial value = {test_account.get_balance()}\")\n",
    "## Test the change balance\n",
    "ChangeValue = -2\n",
    "test_account.change_balance(ChangeValue)\n",
    "print(f\"the balance after apply the change value {ChangeValue}: {test_account.get_balance()}\")\n",
    "## get_balance function\n",
    "ChangeValue = 10\n",
    "test_account.change_balance(ChangeValue)\n",
    "print(f\"the balance after apply the change value {ChangeValue}: {test_account.get_balance()}\")\n",
    "\n",
    "\n",
    "\n"
   ]
  },
  {
   "cell_type": "markdown",
   "id": "50331c45",
   "metadata": {},
   "source": [
    "# Customer class"
   ]
  },
  {
   "cell_type": "code",
   "execution_count": 82,
   "id": "e845971b",
   "metadata": {},
   "outputs": [],
   "source": [
    "class Customer(object):\n",
    "    def __init__(self,username, password,AccountsListofcustomer=[]):\n",
    " \n",
    "        self.username=username\n",
    "        self.password=password\n",
    "        self.AccountsListofcustomer = AccountsListofcustomer\n",
    "    def check_password(self,password):\n",
    "        if self.password == password:\n",
    "            return True\n",
    "        else:\n",
    "            return False       \n",
    "    def add_account(self, newaccount):\n",
    "        if type(newaccount) == Account: \n",
    "            self.AccountsListofcustomer.append(newaccount)\n",
    "            return True\n",
    "        \n",
    "        return False\n",
    "    def get_account(self,account_number):\n",
    "        temp = None\n",
    "        for account in self.AccountsListofcustomer:\n",
    "            if account.account_number == account_number:\n",
    "                temp = account\n",
    "                break\n",
    "        return temp\n",
    "    def deposit(self,account_number,amount):\n",
    "        temp = None\n",
    "        for account in self.AccountsListofcustomer:\n",
    "            if account.account_number == account_number:\n",
    "                temp = account.change_balance(amount)\n",
    "                break\n",
    "        if temp != None:\n",
    "            return True\n",
    "        else: \n",
    "            return False\n",
    "    def withdraw(self,account_number,amount):\n",
    "        temp = None\n",
    "        for account in self.AccountsListofcustomer:\n",
    "            if account.account_number == account_number:\n",
    "                temp = account.change_balance(-amount)\n",
    "                break\n",
    "        if temp != None:\n",
    "            return True\n",
    "        else: \n",
    "            return False\n",
    "\n",
    "    def print_customerAccounts_list(self):\n",
    "        for account in self.AccountsListofcustomer:\n",
    "            print(f\"Account number:{account.account_number} Account balance:{account.balance}\")"
   ]
  },
  {
   "cell_type": "markdown",
   "id": "906c75ec",
   "metadata": {},
   "source": [
    "# Testing Customer class"
   ]
  },
  {
   "cell_type": "code",
   "execution_count": 83,
   "id": "4ebc874c",
   "metadata": {},
   "outputs": [
    {
     "name": "stdout",
     "output_type": "stream",
     "text": [
      "24\n"
     ]
    }
   ],
   "source": [
    "Sameera_Customer = Customer(\"Sameera\",\"123445\")\n",
    "\n",
    "Sameera_account = Account(\"234567\",23)\n",
    "\n",
    "Sameera_account_1 = Account(\"2345666\",24)\n",
    "\n",
    "Sameera_Customer.add_account(Sameera_account)\n",
    "\n",
    "Sameera_Customer.add_account(Sameera_account_1)\n",
    "\n",
    "temp_Acount = Sameera_Customer.get_account(\"2345666\")\n",
    "\n",
    "print(temp_Acount.get_balance())\n",
    "#print(temp_Acount.add_account())\n"
   ]
  },
  {
   "cell_type": "markdown",
   "id": "2324bf2a",
   "metadata": {},
   "source": [
    "# Testing"
   ]
  },
  {
   "cell_type": "code",
   "execution_count": 84,
   "id": "f7ecb401",
   "metadata": {},
   "outputs": [
    {
     "name": "stdout",
     "output_type": "stream",
     "text": [
      "False\n",
      "True\n",
      "Account number:234567 Account balance:23\n",
      "Account number:2345666 Account balance:24\n",
      "Account number:23456 Account balance:0\n",
      "#####################\n",
      "Account number:234567 Account balance:23\n",
      "Account number:2345666 Account balance:24\n",
      "Account number:23456 Account balance:0\n",
      "Account number:23456 Account balance:245\n"
     ]
    }
   ],
   "source": [
    "new_account = Account(\"2345\")\n",
    "accountList = [new_account]\n",
    "###\n",
    "testCustomer = Customer(\"Sameera\",\"1234\")\n",
    "### check the function check password\n",
    "print(testCustomer.check_password(\"12345\"))\n",
    "print(testCustomer.check_password(\"1234\"))\n",
    "\n",
    "new_account1 = Account(\"23456\")\n",
    "\n",
    "testCustomer.add_account(new_account1)\n",
    "\n",
    "testCustomer.print_customerAccounts_list()\n",
    "\n",
    "print(\"#####################\")\n",
    "\n",
    "new_account2 = Account(\"23456\",245)\n",
    "\n",
    "testCustomer.add_account(new_account2)\n",
    "\n",
    "testCustomer.print_customerAccounts_list()\n",
    "\n"
   ]
  },
  {
   "cell_type": "markdown",
   "id": "5398cfb7",
   "metadata": {},
   "source": [
    "# Bank class"
   ]
  },
  {
   "cell_type": "code",
   "execution_count": 109,
   "id": "bb2bbfaf",
   "metadata": {},
   "outputs": [],
   "source": [
    "class Bank(object):\n",
    "    def __init__(self, customersList = [], Customerlogin = None):\n",
    "        \n",
    "        lines = [] \n",
    "        self.customersList = []\n",
    "        with open('testfile.txt','r') as f:\n",
    "            lines = f.readlines()\n",
    "        for Line in lines:\n",
    "            LineParts =  Line.split(sep=\"#\")\n",
    "            ### hämta Customer Information\n",
    "            CustomerInfo = LineParts[0]\n",
    "            CustomerInfoParts = CustomerInfo.split(\"/\")\n",
    "            ### Skapa AccountList\n",
    "            AccountList = []\n",
    "            if len(LineParts)>1:\n",
    "                AccountsInfo = LineParts[1]\n",
    "                AccountsInfoSeparated = AccountsInfo.split(\"@\")\n",
    "                \n",
    "                for item in AccountsInfoSeparated:\n",
    "                    accountInfo = item.split('/')\n",
    "                    temp = Account(accountInfo[0],int(accountInfo[1]))\n",
    "                    AccountList.append(temp)\n",
    "            ResultedCustomer = Customer(CustomerInfoParts[0],CustomerInfoParts[1],AccountList)\n",
    "            self.customersList.append(ResultedCustomer)\n",
    "            \n",
    "       \n",
    "        if customersList != []:\n",
    "            self.customersList += customersList\n",
    "        \n",
    "        self.Customerlogin=Customerlogin \n",
    "    def get_customers(self):\n",
    "        return self.customersList\n",
    "    def get_customer(self, username): \n",
    "        temp = None\n",
    "        for customer in self.customersList:\n",
    "            if customer.username == username:\n",
    "                temp = customer\n",
    "                break\n",
    "        return(temp)\n",
    "    def add_customer(self, username, password):\n",
    "        temp = self.get_customer(username)\n",
    "        if temp == None:\n",
    "            self.customersList.append(Customer(username, password))\n",
    "            return True\n",
    "        else:\n",
    "            print(\"This username is already existed\")\n",
    "            return False\n",
    "          \n",
    "    def change_customer_password(self,username,new_password):\n",
    "        temp = self.get_customer(username) \n",
    "        if(temp != None):\n",
    "            if new_password == temp.password:\n",
    "                print(\" write a new password\")\n",
    "                return False\n",
    "            else:    \n",
    "                temp.password = new_password\n",
    "                return True\n",
    "        else:\n",
    "            print(f\"there is no customer with the name of {username}\")\n",
    "            return False\n",
    "    def remove_customer(self,username):\n",
    "        temp = self.get_customer(username)\n",
    "        if temp != None:\n",
    "            self.customersList.remove(temp)\n",
    "            return True\n",
    "        else:\n",
    "            print(f\"there is no customer with {username}\")\n",
    "            return False       \n",
    "    def login(self,username,password):\n",
    "        temp = self.get_customer(username)\n",
    "        if temp != None:\n",
    "            if temp.check_password(password):\n",
    "                self.Customerlogin = temp\n",
    "                return True\n",
    "            else:\n",
    "                print(\"your password is not corect\")\n",
    "                return False\n",
    "        else:\n",
    "            print(f\"there is no customer with {username}\")\n",
    "            return False\n",
    "\n",
    "   \n",
    "    def logout(self):\n",
    "        if self.Customerlogin != None:\n",
    "            self.Customerlogin = None\n",
    "            return True  \n",
    "        else:\n",
    "            print(\"There is no logged in customer\")\n",
    "            return False    \n",
    "#this is to look some ones all the accout history \n",
    "    def get_account(self):     \n",
    "        if self.Customerlogin != None:\n",
    "            return self.Customerlogin.AccountsListofcustomer\n",
    "        else:\n",
    "            print(\"There is no logged in customer\")\n",
    "            return False\n",
    "                    \n",
    "    def deposit(self, account_number, amount):\n",
    "        if self.Customerlogin != None:\n",
    "            if self.Customerlogin.deposit(account_number,amount):\n",
    "                return True\n",
    "            else:\n",
    "                return False\n",
    "        else:\n",
    "            print(\"There is no logged in customer\")\n",
    "            return False\n",
    "\n",
    "  ### metod Withdraw\n",
    "    \n",
    "    def withdraw(self, account_number, amount):\n",
    "        if self.Customerlogin != None:\n",
    "            if self.Customerlogin.withdraw(account_number,amount):\n",
    "                return True\n",
    "            else:\n",
    "                return False\n",
    "        else:\n",
    "            print(\"There is no logged in customer\")\n",
    "            return False\n",
    "     ### Write the customer data to file\n",
    "    def __del__(self): \n",
    "     \n",
    "        with open(\"testfile.txt\",\"w\") as f:\n",
    "            lines = []\n",
    "            for customer in self.customersList:\n",
    "                ##Skapa customer information del\n",
    "                ResultedString = f\"{customer.username}/{customer.password}#\"\n",
    "                ### Skapa en account information del\n",
    "                for account in customer.AccountsListofcustomer:\n",
    "                    temp = f\"{account.account_number}/{account.balance}@\"\n",
    "                    ResultedString += temp\n",
    "                ResultedString = ResultedString[:-1] \n",
    "                lines.append(ResultedString)\n",
    "            f.write('\\n'.join(lines))   "
   ]
  },
  {
   "cell_type": "markdown",
   "id": "18e27713",
   "metadata": {},
   "source": [
    "# Testing Funktion"
   ]
  },
  {
   "cell_type": "markdown",
   "id": "312f4cfe",
   "metadata": {},
   "source": [
    "##### Test get list of the  customer"
   ]
  },
  {
   "cell_type": "code",
   "execution_count": 110,
   "id": "e878a23a",
   "metadata": {},
   "outputs": [
    {
     "name": "stdout",
     "output_type": "stream",
     "text": [
      "username = Maryam,password = 773141\n",
      "username = jane,password = 7731473473\n"
     ]
    }
   ],
   "source": [
    "testBank = Bank()\n",
    "a = testBank.get_customers()\n",
    "len(a)\n",
    "#print(f\"username = {a[2].username},password = {a[2].password}\")\n",
    "print(f\"username = {a[1].username},password = {a[1].password}\")\n",
    "print(f\"username = {a[0].username},password = {a[0].password}\")"
   ]
  },
  {
   "cell_type": "markdown",
   "id": "480b7476",
   "metadata": {},
   "source": [
    "##### Test add customer"
   ]
  },
  {
   "cell_type": "code",
   "execution_count": 111,
   "id": "47d56cc3",
   "metadata": {},
   "outputs": [
    {
     "name": "stdout",
     "output_type": "stream",
     "text": [
      "This username is already existed\n",
      "the new customer is Alvin with the password 7731473471\n",
      "This username is already existed\n",
      "the new customer is Zeemal with the password 773141\n",
      "username = Maryam,password = 773141\n"
     ]
    }
   ],
   "source": [
    "username = \"Alvin\"\n",
    "password = \"7731473471\"\n",
    "testBank.add_customer(username,password)\n",
    "\n",
    "temp = testBank.get_customer(username)\n",
    "\n",
    "print(f\"the new customer is {temp.username} with the password {temp.password}\")\n",
    "\n",
    "username = \"Zeemal\"\n",
    "password = \"773141\"\n",
    "testBank.add_customer(username,password)\n",
    "\n",
    "temp = testBank.get_customer(username)\n",
    "print(f\"the new customer is {temp.username} with the password {temp.password}\")\n",
    "a = testBank.get_customers()\n",
    "len(a)\n",
    "print(f\"username = {a[1].username},password = {a[1].password}\")"
   ]
  },
  {
   "cell_type": "markdown",
   "id": "077a1927",
   "metadata": {},
   "source": [
    "##### Test remove customer"
   ]
  },
  {
   "cell_type": "code",
   "execution_count": 112,
   "id": "0e80ca2a",
   "metadata": {},
   "outputs": [
    {
     "name": "stdout",
     "output_type": "stream",
     "text": [
      "there is no customer with rob\n"
     ]
    }
   ],
   "source": [
    "username = \"rob\"\n",
    "if testBank.remove_customer(username):\n",
    "    if testBank.get_customer(username) == None:\n",
    "        print(f\"the account with {username} is deleted\")\n",
    "    else:\n",
    "        print(\"The code should not have come here\")   \n",
    "else:\n",
    "    temp = testBank.get_customer(username)\n",
    "    if temp != None:\n",
    "        print(f\"the account with {username} is not deleted\") "
   ]
  },
  {
   "cell_type": "code",
   "execution_count": 114,
   "id": "72e740ec",
   "metadata": {},
   "outputs": [
    {
     "name": "stdout",
     "output_type": "stream",
     "text": [
      "the account with jane is deleted\n"
     ]
    }
   ],
   "source": [
    "username = \"jane\"\n",
    "if testBank.remove_customer(username):\n",
    "    if testBank.get_customer(username) == None:\n",
    "        print(f\"the account with {username} is deleted\")\n",
    "    else:\n",
    "        print(\"The code should not have come here\")   \n",
    "else:\n",
    "    temp = testBank.get_customer(username)\n",
    "    if temp != None:\n",
    "        print(f\"the account with {username} is not deleted\") "
   ]
  },
  {
   "cell_type": "markdown",
   "id": "fcb41cb4",
   "metadata": {},
   "source": [
    "#### Test login function"
   ]
  },
  {
   "cell_type": "code",
   "execution_count": 122,
   "id": "f04db0fb",
   "metadata": {},
   "outputs": [
    {
     "name": "stdout",
     "output_type": "stream",
     "text": [
      "False\n",
      "the customer with name Zeemal is logged in\n",
      "True\n"
     ]
    }
   ],
   "source": [
    "username = \"Zeemal\"\n",
    "print(testBank.Customerlogin != None)\n",
    "if testBank.login(username,\"773141\"):\n",
    "    print(f\"the customer with name {username} is logged in\")\n",
    "    print(testBank.Customerlogin != None)"
   ]
  },
  {
   "cell_type": "markdown",
   "id": "27bde820",
   "metadata": {},
   "source": [
    "#### Test log out"
   ]
  },
  {
   "cell_type": "code",
   "execution_count": 123,
   "id": "6314162b",
   "metadata": {},
   "outputs": [
    {
     "name": "stdout",
     "output_type": "stream",
     "text": [
      "True\n",
      "the customer with name Zeemal is logged out\n",
      "False\n"
     ]
    }
   ],
   "source": [
    "\n",
    "username = testBank.Customerlogin.username\n",
    "print(testBank.Customerlogin != None)\n",
    "if testBank.logout():\n",
    "    print(f\"the customer with name {username} is logged out\")\n",
    "    print(testBank.Customerlogin != None)\n"
   ]
  },
  {
   "cell_type": "markdown",
   "id": "c2f6f133",
   "metadata": {},
   "source": [
    "#### Test get account"
   ]
  },
  {
   "cell_type": "code",
   "execution_count": 125,
   "id": "e0781961",
   "metadata": {},
   "outputs": [
    {
     "name": "stdout",
     "output_type": "stream",
     "text": [
      "True\n",
      "the customer with name Zeemal is logged in\n",
      "True\n",
      "The account of the logged in customer is as follows\n",
      "234567 23\n",
      "2345666 24\n",
      "23456 0\n",
      "23456 245\n"
     ]
    }
   ],
   "source": [
    "username = \"Zeemal\"\n",
    "temp = testBank.get_customer(username)\n",
    "print(testBank.Customerlogin != None)\n",
    "if testBank.login(username,password):\n",
    "    print(f\"the customer with name {username} is logged in\")\n",
    "    print(testBank.Customerlogin != None)\n",
    "\n",
    "print(\"The account of the logged in customer is as follows\")\n",
    "for account in testBank.get_account():\n",
    "    print(f\"{account.account_number} {account.balance}\")"
   ]
  },
  {
   "cell_type": "code",
   "execution_count": 126,
   "id": "ed9756d7",
   "metadata": {},
   "outputs": [
    {
     "name": "stdout",
     "output_type": "stream",
     "text": [
      "234567 23\n",
      "2345666 24\n",
      "23456 0\n",
      "23456 245\n"
     ]
    }
   ],
   "source": [
    "for account in testBank.get_account():\n",
    "    print(f\"{account.account_number} {account.balance}\")"
   ]
  },
  {
   "cell_type": "code",
   "execution_count": 127,
   "id": "72522cca",
   "metadata": {},
   "outputs": [
    {
     "data": {
      "text/plain": [
       "'Zeemal'"
      ]
     },
     "execution_count": 127,
     "metadata": {},
     "output_type": "execute_result"
    }
   ],
   "source": [
    "testBank.Customerlogin.username"
   ]
  },
  {
   "cell_type": "markdown",
   "id": "b0c0a26a",
   "metadata": {},
   "source": [
    "#### Test deposit"
   ]
  },
  {
   "cell_type": "code",
   "execution_count": 128,
   "id": "f87a89fa",
   "metadata": {},
   "outputs": [
    {
     "name": "stdout",
     "output_type": "stream",
     "text": [
      "23\n",
      "43\n"
     ]
    }
   ],
   "source": [
    "a = testBank.Customerlogin.get_account(\"234567\")\n",
    "amount = 20\n",
    "print(a.balance)\n",
    "testBank.deposit(\"234567\",amount)\n",
    "print(a.balance)"
   ]
  },
  {
   "cell_type": "markdown",
   "id": "850e2bc0",
   "metadata": {},
   "source": [
    "#### Test withdraw"
   ]
  },
  {
   "cell_type": "code",
   "execution_count": 129,
   "id": "6b1ae6b5",
   "metadata": {},
   "outputs": [
    {
     "name": "stdout",
     "output_type": "stream",
     "text": [
      "43\n",
      "23\n"
     ]
    }
   ],
   "source": [
    "a = testBank.Customerlogin.get_account(\"234567\")\n",
    "amount = 20\n",
    "print(a.balance)\n",
    "testBank.withdraw(\"234567\",amount)\n",
    "print(a.balance)"
   ]
  },
  {
   "cell_type": "markdown",
   "id": "2c88da92",
   "metadata": {},
   "source": [
    "### Save and text file"
   ]
  },
  {
   "cell_type": "code",
   "execution_count": 130,
   "id": "c6a7236a",
   "metadata": {},
   "outputs": [
    {
     "name": "stdout",
     "output_type": "stream",
     "text": [
      "Account number:konto1 Account balance:321\n",
      "Account number:konto2 Account balance:500\n",
      "Account number:konto3 Account balance:261\n",
      "None\n"
     ]
    },
    {
     "data": {
      "text/plain": [
       "True"
      ]
     },
     "execution_count": 130,
     "metadata": {},
     "output_type": "execute_result"
    }
   ],
   "source": [
    "testBank = Bank()\n",
    "print(testBank.customersList[0].print_customerAccounts_list())\n",
    "testCustomer = Customer(\"Alvin\",\"12345678\")\n",
    "testBank.add_customer(\"Alvin\",\"123456\")\n"
   ]
  },
  {
   "cell_type": "markdown",
   "id": "3aa1a2e0",
   "metadata": {},
   "source": [
    "## Test the save and retrieve to and from the file "
   ]
  },
  {
   "cell_type": "code",
   "execution_count": 131,
   "id": "b4c8156f",
   "metadata": {},
   "outputs": [],
   "source": [
    "lines = [\"niklas/niklasPassword#konto1/321@konto2/500@konto3/261\",\"james/jamesPassword#jamesAccount/-20\"]\n",
    "with open('testfile.txt','w') as f:\n",
    "     f.write('\\n'.join(lines))\n",
    "     ## f.writelines(lines)\n",
    "     ##pass\n",
    "\n"
   ]
  },
  {
   "cell_type": "markdown",
   "id": "942ad4f8",
   "metadata": {},
   "source": [
    "### read from the file"
   ]
  },
  {
   "cell_type": "code",
   "execution_count": 132,
   "id": "cf35cca5",
   "metadata": {},
   "outputs": [],
   "source": [
    "with open('testfile.txt','r') as f:\n",
    "    a = f.readlines()"
   ]
  },
  {
   "cell_type": "code",
   "execution_count": 133,
   "id": "4bde0d0a",
   "metadata": {},
   "outputs": [
    {
     "data": {
      "text/plain": [
       "['niklas/niklasPassword#konto1/321@konto2/500@konto3/261\\n',\n",
       " 'james/jamesPassword#jamesAccount/-20']"
      ]
     },
     "execution_count": 133,
     "metadata": {},
     "output_type": "execute_result"
    }
   ],
   "source": [
    "a"
   ]
  },
  {
   "cell_type": "code",
   "execution_count": 134,
   "id": "506cc826",
   "metadata": {},
   "outputs": [
    {
     "data": {
      "text/plain": [
       "['niklas/niklasPassword#konto1/321@konto2/500@konto3/261\\n']"
      ]
     },
     "execution_count": 134,
     "metadata": {},
     "output_type": "execute_result"
    }
   ],
   "source": [
    "a[:][:-1]\n"
   ]
  },
  {
   "cell_type": "markdown",
   "id": "2d2e5481",
   "metadata": {},
   "source": [
    "### Convert one line to the object"
   ]
  },
  {
   "cell_type": "code",
   "execution_count": 135,
   "id": "8acd1a49",
   "metadata": {},
   "outputs": [
    {
     "name": "stdout",
     "output_type": "stream",
     "text": [
      "niklas niklasPassword\n",
      "Account number:konto1 Account balance:321\n",
      "Account number:konto2 Account balance:500\n",
      "Account number:konto3 Account balance:261\n"
     ]
    }
   ],
   "source": [
    "Line = \"niklas/niklasPassword#konto1/321@konto2/500@konto3/261\"\n",
    "LineParts =  Line.split(sep=\"#\")\n",
    "### Extract Customer Info\n",
    "CustomerInfo = LineParts[0]\n",
    "CustomerInfoParts = CustomerInfo.split(\"/\")\n",
    "### Create AccountList\n",
    "AccountsInfo = LineParts[1]\n",
    "AccountsInfoSeparated = AccountsInfo.split(\"@\")\n",
    "AccountList = []\n",
    "for item in AccountsInfoSeparated:\n",
    "    accountInfo = item.split('/')\n",
    "    temp = Account(accountInfo[0],int(accountInfo[1]))\n",
    "    AccountList.append(temp)\n",
    "ResultedCustomer = Customer(CustomerInfoParts[0],CustomerInfoParts[1],AccountList)\n",
    "### Create the customer object\n",
    "print(ResultedCustomer.username,ResultedCustomer.password)\n",
    "ResultedCustomer.print_customerAccounts_list()"
   ]
  }
 ],
 "metadata": {
  "kernelspec": {
   "display_name": "Python 3 (ipykernel)",
   "language": "python",
   "name": "python3"
  },
  "language_info": {
   "codemirror_mode": {
    "name": "ipython",
    "version": 3
   },
   "file_extension": ".py",
   "mimetype": "text/x-python",
   "name": "python",
   "nbconvert_exporter": "python",
   "pygments_lexer": "ipython3",
   "version": "3.9.13"
  },
  "vscode": {
   "interpreter": {
    "hash": "9b90f58838627ae9536bc45b395542ea55889f7ccf51a116a257daff08c3937e"
   }
  }
 },
 "nbformat": 4,
 "nbformat_minor": 5
}
